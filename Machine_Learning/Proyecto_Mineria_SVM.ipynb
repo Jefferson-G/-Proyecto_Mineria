{
  "nbformat": 4,
  "nbformat_minor": 0,
  "metadata": {
    "colab": {
      "name": "Proyecto_Mineria_SVM.ipynb",
      "provenance": [],
      "collapsed_sections": []
    },
    "kernelspec": {
      "name": "python3",
      "display_name": "Python 3"
    },
    "language_info": {
      "name": "python"
    }
  },
  "cells": [
    {
      "cell_type": "markdown",
      "source": [
        "# Librerías"
      ],
      "metadata": {
        "id": "Wtcg-SfXBdKg"
      }
    },
    {
      "cell_type": "code",
      "execution_count": null,
      "metadata": {
        "id": "H7Xauk_gA0vN"
      },
      "outputs": [],
      "source": [
        "'''Importar las librerías necesarias'''\n",
        "import h5py\n",
        "import cv2\n",
        "import numpy as np\n",
        "import pandas as pd\n",
        "from sklearn.model_selection import train_test_split\n",
        "from sklearn.model_selection import GridSearchCV\n",
        "from sklearn import svm\n",
        "from sklearn.metrics import accuracy_score, precision_score, recall_score, f1_score, make_scorer\n",
        "from sklearn.metrics import confusion_matrix\n",
        "import matplotlib.pyplot as plt\n",
        "import seaborn as sn\n",
        "from sklearn.model_selection import cross_validate, KFold\n",
        "from sklearn.ensemble import RandomForestClassifier\n",
        "from itertools import combinations\n",
        "from sklearn.metrics import roc_curve\n",
        "from sklearn.metrics import roc_auc_score\n",
        "from sklearn.model_selection import cross_val_predict"
      ]
    },
    {
      "cell_type": "code",
      "source": [
        "'''Ruta con los archivos de la data ya procesada en formato H5'''\n",
        "test_size    = 0.20\n",
        "seed         = 9\n",
        "h5_color     = './color_features.h5'\n",
        "h5_colorLb   = './color_features_labels.h5'\n",
        "h5_texture   = './textural_features.h5'\n",
        "h5_textureLb = './textural_features_labels.h5'\n",
        "scoring      = {'accuracy' : make_scorer(accuracy_score),\n",
        "                'f1_score' : make_scorer(f1_score, average = 'weighted'), \n",
        "                'precision' : make_scorer(precision_score, average = 'weighted'),\n",
        "                'recall' : make_scorer(recall_score, average = 'weighted')}"
      ],
      "metadata": {
        "id": "_vE70nxHBocu"
      },
      "execution_count": null,
      "outputs": []
    },
    {
      "cell_type": "markdown",
      "source": [
        "# Load Data"
      ],
      "metadata": {
        "id": "-Tv5QAOBCSHF"
      }
    },
    {
      "cell_type": "code",
      "source": [
        "'''Importar el vector de características y las etiquetas entrenadas'''\n",
        "h5f_color   = h5py.File(h5_color, 'r')\n",
        "h5f_colorLb = h5py.File(h5_colorLb, 'r')\n",
        "\n",
        "color_features_string          = h5f_color['Color_Features_Granadilla']\n",
        "color_features_labels_string   = h5f_colorLb['Color_Features_Labels_Granadilla']\n",
        "\n",
        "color_features = np.array(color_features_string)\n",
        "color_features_labels  = np.array(color_features_labels_string)\n",
        "\n",
        "h5f_color.close()\n",
        "h5f_colorLb.close()\n",
        "\n",
        "'''Verificar la forma del vector de características y las etiquetas'''\n",
        "print(\"[STATUS] features shape: {}\".format(color_features.shape))\n",
        "print(\"[STATUS] labels shape: {}\".format(color_features_labels.shape))\n",
        "\n",
        "print(\"[STATUS] training started...\")"
      ],
      "metadata": {
        "colab": {
          "base_uri": "https://localhost:8080/"
        },
        "id": "eXnPQHttCO23",
        "outputId": "f33d3c3c-4cf6-4f28-a0ac-447d53774a09"
      },
      "execution_count": null,
      "outputs": [
        {
          "output_type": "stream",
          "name": "stdout",
          "text": [
            "[STATUS] features shape: (5056, 512)\n",
            "[STATUS] labels shape: (5056,)\n",
            "[STATUS] training started...\n"
          ]
        }
      ]
    },
    {
      "cell_type": "code",
      "source": [
        "'''Importar el vector de características y las etiquetas entrenadas'''\n",
        "h5f_texture  = h5py.File(h5_texture, 'r')\n",
        "h5f_textureLb = h5py.File(h5_textureLb, 'r')\n",
        "\n",
        "textural_features_string          = h5f_texture['Textural_Features_Granadilla']\n",
        "textural_features_labels_string   = h5f_textureLb['Textural_Features_Labels_Granadilla']\n",
        "\n",
        "textural_features = np.array(textural_features_string )\n",
        "textural_features_labels  = np.array(textural_features_labels_string)\n",
        "\n",
        "h5f_texture.close()\n",
        "h5f_textureLb.close()\n",
        "\n",
        "'''Verificar la forma del vector de características y las etiquetas'''\n",
        "print(\"[STATUS] features shape: {}\".format(textural_features.shape))\n",
        "print(\"[STATUS] labels shape: {}\".format(textural_features_labels.shape))\n",
        "\n",
        "print(\"[STATUS] training started...\")"
      ],
      "metadata": {
        "colab": {
          "base_uri": "https://localhost:8080/"
        },
        "id": "OWPq0n_EIJLK",
        "outputId": "eb99b11a-fd52-4656-95dc-19c63c85043b"
      },
      "execution_count": null,
      "outputs": [
        {
          "output_type": "stream",
          "name": "stdout",
          "text": [
            "[STATUS] features shape: (5056, 13)\n",
            "[STATUS] labels shape: (5056,)\n",
            "[STATUS] training started...\n"
          ]
        }
      ]
    },
    {
      "cell_type": "code",
      "source": [
        "'''Definir en una variable las características globales'''\n",
        "global_features = np.hstack([color_features, textural_features])\n",
        "print(\"[STATUS] features shape: {}\".format(global_features.shape))\n",
        "print(\"[STATUS] labels shape: {}\".format(textural_features_labels.shape))"
      ],
      "metadata": {
        "colab": {
          "base_uri": "https://localhost:8080/"
        },
        "id": "rIlbF588IquR",
        "outputId": "e66813e2-e80a-46e5-b979-aa9a6a5acf0c"
      },
      "execution_count": null,
      "outputs": [
        {
          "output_type": "stream",
          "name": "stdout",
          "text": [
            "[STATUS] features shape: (5056, 525)\n",
            "[STATUS] labels shape: (5056,)\n"
          ]
        }
      ]
    },
    {
      "cell_type": "markdown",
      "source": [
        "# Identify X and Y"
      ],
      "metadata": {
        "id": "DDEUdUHVItrh"
      }
    },
    {
      "cell_type": "code",
      "source": [
        "'''Identificar las etiquetas de entrada y salida X y Y'''\n",
        "X = global_features\n",
        "Y = color_features_labels"
      ],
      "metadata": {
        "id": "jIKKQevLItTh"
      },
      "execution_count": null,
      "outputs": []
    },
    {
      "cell_type": "markdown",
      "source": [
        "# Training and Testing"
      ],
      "metadata": {
        "id": "tXtVTSKdJADQ"
      }
    },
    {
      "cell_type": "code",
      "source": [
        "'''Dividir el conjunto de datos en entrenamiento y prueba'''\n",
        "X_train, X_test, y_train, y_test = train_test_split(X, Y,\n",
        "                                        test_size   = test_size,\n",
        "                                        random_state = seed)\n",
        "\n",
        "X_train.shape, X_test.shape"
      ],
      "metadata": {
        "colab": {
          "base_uri": "https://localhost:8080/"
        },
        "id": "_KkGrliYI19Z",
        "outputId": "c8fec3e5-c9a0-4308-a68a-4db95a10b721"
      },
      "execution_count": null,
      "outputs": [
        {
          "output_type": "execute_result",
          "data": {
            "text/plain": [
              "((4044, 525), (1012, 525))"
            ]
          },
          "metadata": {},
          "execution_count": 7
        }
      ]
    },
    {
      "cell_type": "markdown",
      "source": [
        "# SVM"
      ],
      "metadata": {
        "id": "PPl27zNLJI8Q"
      }
    },
    {
      "cell_type": "code",
      "source": [
        "'''Establecer los parámetros para aplicar kernel lineal'''\n",
        "linear_param_grid = {\n",
        "    \n",
        "        \"kernel\": [\"linear\"],\n",
        "        \"C\": [0.0001, 0.001, 0.1, 1, 10, 100, 1000],\n",
        "        \"decision_function_shape\": ['ovo', 'ovr']\n",
        "}"
      ],
      "metadata": {
        "id": "oDoxmKNiJL6o"
      },
      "execution_count": null,
      "outputs": []
    },
    {
      "cell_type": "code",
      "source": [
        "'''Establecer los parámetros para aplicar kernel polinomial'''\n",
        "poly_param_grid = {\n",
        "    \n",
        "        \"kernel\": [\"poly\"],\n",
        "        \"degree\": [2, 3, 4],\n",
        "        \"C\": [0.0001, 0.001, 0.1, 1, 10, 100, 1000],\n",
        "        \"decision_function_shape\": ['ovo', 'ovr']\n",
        "}"
      ],
      "metadata": {
        "id": "uVe7-XexJWSK"
      },
      "execution_count": null,
      "outputs": []
    },
    {
      "cell_type": "code",
      "source": [
        "'''Establecer los parámetros para aplicar kernel RBF'''\n",
        "rbf_param_grid = {\n",
        "        \"kernel\": [\"rbf\"],\n",
        "        \"gamma\": [\"auto\", \"scale\"],\n",
        "        \"C\": [0.0001, 0.001, 0.1, 1, 10, 100, 1000],\n",
        "        \"decision_function_shape\": ['ovo', 'ovr']\n",
        "}"
      ],
      "metadata": {
        "id": "6f8jVjldJYMh"
      },
      "execution_count": null,
      "outputs": []
    },
    {
      "cell_type": "markdown",
      "source": [
        "# Linear Kernel"
      ],
      "metadata": {
        "id": "n1vAlXPNJc2f"
      }
    },
    {
      "cell_type": "code",
      "source": [
        "'''Crear un objeto GridSearchCV y ajustarlo a los datos de entrenamiento'''\n",
        "linear_grid = GridSearchCV(svm.SVC(), linear_param_grid)\n",
        "linear_grid.fit(X_train,y_train)\n",
        "print(linear_grid.best_estimator_)"
      ],
      "metadata": {
        "colab": {
          "base_uri": "https://localhost:8080/"
        },
        "id": "yVSKHOK3JbjY",
        "outputId": "16a9bdef-3029-4853-9825-4f05de70a8c0"
      },
      "execution_count": null,
      "outputs": [
        {
          "output_type": "stream",
          "name": "stdout",
          "text": [
            "SVC(C=10, decision_function_shape='ovo', kernel='linear')\n"
          ]
        }
      ]
    },
    {
      "cell_type": "code",
      "source": [
        "'''Predecir el objetivo para el conjunto de datos de prueba y evaluar el modelo, mediante las diferentes métricas'''\n",
        "linear_pred = linear_grid.predict(X_test)\n",
        "linear_accuracy = accuracy_score(y_test, linear_pred)\n",
        "linear_precision = precision_score(y_test, linear_pred, average='weighted')\n",
        "linear_recall = recall_score(y_test, linear_pred, average='weighted')\n",
        "linear_f1 = f1_score(y_test, linear_pred, average='weighted')\n",
        "print('Accuracy (Linear Kernel): ', \"%.2f\" % (linear_accuracy*100))\n",
        "print('F1 (Linear Kernel): ', \"%.2f\" % (linear_f1*100))\n",
        "print('Precision (Linear Kernel): ', \"%.2f\" % (linear_precision*100))\n",
        "print('Recall (Linear Kernel): ', \"%.2f\" % (linear_recall*100))"
      ],
      "metadata": {
        "colab": {
          "base_uri": "https://localhost:8080/"
        },
        "id": "bNJ3rKQ7Jx9w",
        "outputId": "51f9dba7-c788-41b3-99b4-24028417b185"
      },
      "execution_count": null,
      "outputs": [
        {
          "output_type": "stream",
          "name": "stdout",
          "text": [
            "Accuracy (Linear Kernel):  85.08\n",
            "F1 (Linear Kernel):  84.79\n",
            "Precision (Linear Kernel):  85.06\n",
            "Recall (Linear Kernel):  85.08\n"
          ]
        }
      ]
    },
    {
      "cell_type": "markdown",
      "source": [
        "# Polynomial Kernel"
      ],
      "metadata": {
        "id": "rIPif90_J8LD"
      }
    },
    {
      "cell_type": "code",
      "source": [
        "'''Crear un objeto GridSearchCV y ajustarlo a los datos de entrenamiento'''\n",
        "poly_grid = GridSearchCV(svm.SVC(), poly_param_grid)\n",
        "poly_grid.fit(X_train,y_train)\n",
        "print(poly_grid.best_estimator_)"
      ],
      "metadata": {
        "colab": {
          "base_uri": "https://localhost:8080/"
        },
        "id": "xxt_YU2IJ5yH",
        "outputId": "2bf796b6-1187-459f-9428-97c0bd4a8ed0"
      },
      "execution_count": null,
      "outputs": [
        {
          "output_type": "stream",
          "name": "stdout",
          "text": [
            "SVC(C=100, decision_function_shape='ovo', degree=2, kernel='poly')\n"
          ]
        }
      ]
    },
    {
      "cell_type": "code",
      "source": [
        "'''Predecir el objetivo para el conjunto de datos de prueba y evaluar el modelo, mediante las diferentes métricas'''\n",
        "poly_pred = poly_grid.predict(X_test)\n",
        "poly_accuracy = accuracy_score(y_test, poly_pred)\n",
        "poly_precision = precision_score(y_test, poly_pred, average='weighted')\n",
        "poly_recall = recall_score(y_test, poly_pred, average='weighted')\n",
        "poly_f1 = f1_score(y_test, poly_pred, average='weighted')\n",
        "print('Accuracy (Polynomial Kernel): ', \"%.2f\" % (poly_accuracy*100))\n",
        "print('F1 (Polynomial Kernel): ', \"%.2f\" % (poly_f1*100))\n",
        "print('Precision (Polynomial Kernel): ', \"%.2f\" % (poly_precision*100))\n",
        "print('Recall (Polynomial Kernel): ', \"%.2f\" % (poly_recall*100))"
      ],
      "metadata": {
        "colab": {
          "base_uri": "https://localhost:8080/"
        },
        "id": "7_4ItPF5KDqu",
        "outputId": "ac99a717-1d82-479c-ac4d-6603b7c48094"
      },
      "execution_count": null,
      "outputs": [
        {
          "output_type": "stream",
          "name": "stdout",
          "text": [
            "Accuracy (Polynomial Kernel):  89.72\n",
            "F1 (Polynomial Kernel):  89.53\n",
            "Precision (Polynomial Kernel):  89.91\n",
            "Recall (Polynomial Kernel):  89.72\n"
          ]
        }
      ]
    },
    {
      "cell_type": "markdown",
      "source": [
        "# RBF Kernel"
      ],
      "metadata": {
        "id": "VJIdsCwNKKei"
      }
    },
    {
      "cell_type": "code",
      "source": [
        "'''Crear un objeto GridSearchCV y ajustarlo a los datos de entrenamiento'''\n",
        "rbf_grid = GridSearchCV(svm.SVC(probability=True), rbf_param_grid)\n",
        "rbf_grid.fit(X_train,y_train)\n",
        "print(rbf_grid.best_estimator_)"
      ],
      "metadata": {
        "colab": {
          "base_uri": "https://localhost:8080/"
        },
        "id": "RxBGeba6KOGG",
        "outputId": "c9448860-46c0-4392-aa65-684c73c83984"
      },
      "execution_count": null,
      "outputs": [
        {
          "output_type": "stream",
          "name": "stdout",
          "text": [
            "SVC(C=100, decision_function_shape='ovo', probability=True)\n"
          ]
        }
      ]
    },
    {
      "cell_type": "code",
      "source": [
        "'''Predecir el objetivo para el conjunto de datos de prueba y evaluar el modelo, mediante las diferentes métricas'''\n",
        "rbf_pred = rbf_grid.predict(X_test)\n",
        "rbf_accuracy = accuracy_score(y_test, rbf_pred)\n",
        "rbf_precision = precision_score(y_test, rbf_pred, average='weighted')\n",
        "rbf_recall = recall_score(y_test, rbf_pred, average='weighted')\n",
        "rbf_f1 = f1_score(y_test, rbf_pred, average='weighted')\n",
        "print('Accuracy (RBF Kernel): ', \"%.2f\" % (rbf_accuracy*100))\n",
        "print('F1 (RBF Kernel): ', \"%.2f\" % (rbf_f1*100))\n",
        "print('Precision (RBF Kernel): ', \"%.2f\" % (rbf_precision*100))\n",
        "print('Recall (RBF Kernel): ', \"%.2f\" % (rbf_recall*100))"
      ],
      "metadata": {
        "colab": {
          "base_uri": "https://localhost:8080/"
        },
        "id": "pnk9P0pMKQjx",
        "outputId": "024e5913-ddf1-4a4f-cb3d-26aa0c585736"
      },
      "execution_count": null,
      "outputs": [
        {
          "output_type": "stream",
          "name": "stdout",
          "text": [
            "Accuracy (RBF Kernel):  89.62\n",
            "F1 (RBF Kernel):  89.48\n",
            "Precision (RBF Kernel):  89.67\n",
            "Recall (RBF Kernel):  89.62\n"
          ]
        }
      ]
    }
  ]
}