{
  "cells": [
    {
      "cell_type": "code",
      "execution_count": null,
      "metadata": {
        "id": "Rr7c5IQRZEC5"
      },
      "outputs": [],
      "source": [
        "from google.colab import drive\n",
        "drive.mount('/content/drive')"
      ],
      "id": "Rr7c5IQRZEC5"
    },
    {
      "cell_type": "code",
      "execution_count": null,
      "metadata": {
        "id": "Bd3NRFGraO_P"
      },
      "outputs": [],
      "source": [
        "from tensorflow.keras.preprocessing.image import ImageDataGenerator\n",
        "import warnings\n",
        "warnings.filterwarnings('always')\n",
        "warnings.filterwarnings('ignore')\n",
        "\n",
        "# data visualisation and manipulation\n",
        "import numpy as np\n",
        "import pandas as pd\n",
        "import matplotlib.pyplot as plt\n",
        "from matplotlib import style\n",
        "import seaborn as sns\n",
        " \n",
        "#configure\n",
        "# sets matplotlib to inline and displays graphs below the corressponding cell.\n",
        "%matplotlib inline  \n",
        "style.use('fivethirtyeight')\n",
        "sns.set(style='whitegrid',color_codes=True)\n",
        "\n",
        "#model selection\n",
        "from sklearn.model_selection import train_test_split\n",
        "from sklearn.model_selection import KFold\n",
        "from sklearn.metrics import accuracy_score,precision_score,recall_score,confusion_matrix,roc_curve,roc_auc_score\n",
        "from sklearn.model_selection import GridSearchCV\n",
        "from sklearn.preprocessing import LabelEncoder\n",
        "\n",
        "#preprocess.\n",
        "from keras.preprocessing.image import ImageDataGenerator\n",
        "\n",
        "#dl libraraies\n",
        "from keras import backend as K\n",
        "from keras.models import Sequential\n",
        "from keras.layers import Dense\n",
        "from keras.optimizers import *\n",
        "from tensorflow.keras.utils import to_categorical\n",
        "\n",
        "# specifically for cnn\n",
        "from keras.layers import Dropout, Flatten,Activation\n",
        "from keras.layers import Conv2D, MaxPooling2D, BatchNormalization\n",
        " \n",
        "import tensorflow as tf\n",
        "import random as rn\n"
      ],
      "id": "Bd3NRFGraO_P"
    },
    {
      "cell_type": "code",
      "execution_count": null,
      "metadata": {
        "colab": {
          "base_uri": "https://localhost:8080/"
        },
        "id": "sAF308BTWg0z",
        "outputId": "2aed1ce4-d46c-4d81-ac6c-1fd887126d46"
      },
      "outputs": [
        {
          "name": "stdout",
          "output_type": "stream",
          "text": [
            "Found 4041 images belonging to 2 classes.\n",
            "Found 1009 images belonging to 2 classes.\n",
            "Found 5050 images belonging to 2 classes.\n"
          ]
        }
      ],
      "source": [
        "train_datagen = ImageDataGenerator(rescale=1 / 255.0,\n",
        "                                   rotation_range=20,\n",
        "                                   zoom_range=0.05,\n",
        "                                   width_shift_range=0.05,\n",
        "                                   height_shift_range=0.05,\n",
        "                                   shear_range=0.05,\n",
        "                                   horizontal_flip=True,\n",
        "                                   fill_mode=\"nearest\",\n",
        "                                   validation_split=0.20)\n",
        "\n",
        "test_datagen = ImageDataGenerator(rescale=1 / 255.0,\n",
        "                                  validation_split=0.20)\n",
        "\n",
        "data_dir='/content/drive/MyDrive/Deber/Granadilla_Aument'\n",
        "img_height = 250\n",
        "img_width = 250\n",
        "batch_size = 32\n",
        "\n",
        "train_generator = train_datagen.flow_from_directory(\n",
        "    directory=data_dir,\n",
        "    class_mode='categorical',\n",
        "    color_mode='rgb',\n",
        "    subset=\"training\",\n",
        "    seed=123,\n",
        "    target_size=(img_height, img_width))\n",
        "\n",
        "valid_generator = test_datagen.flow_from_directory(\n",
        "    directory=data_dir,\n",
        "    class_mode='categorical',\n",
        "    color_mode='rgb',\n",
        "    subset=\"validation\",\n",
        "    seed=123,\n",
        "    target_size=(img_height, img_width),\n",
        "    batch_size=batch_size)\n",
        "test_generator = test_datagen.flow_from_directory(\n",
        "    directory=data_dir,\n",
        "    color_mode=\"rgb\",\n",
        "    batch_size=1,\n",
        "    shuffle=False,\n",
        "    seed=42\n",
        ")"
      ],
      "id": "sAF308BTWg0z"
    },
    {
      "cell_type": "code",
      "execution_count": null,
      "metadata": {
        "colab": {
          "base_uri": "https://localhost:8080/"
        },
        "id": "UjMkdM7JWrSI",
        "outputId": "13eaad61-0fe2-4515-d158-f31913836871"
      },
      "outputs": [
        {
          "name": "stderr",
          "output_type": "stream",
          "text": [
            "WARNING:tensorflow:`input_shape` is undefined or non-square, or `rows` is not in [96, 128, 160, 192, 224]. Weights for input shape (224, 224) will be loaded as the default.\n"
          ]
        },
        {
          "name": "stdout",
          "output_type": "stream",
          "text": [
            "Downloading data from https://storage.googleapis.com/tensorflow/keras-applications/mobilenet_v2/mobilenet_v2_weights_tf_dim_ordering_tf_kernels_1.0_224_no_top.h5\n",
            "9412608/9406464 [==============================] - 0s 0us/step\n",
            "9420800/9406464 [==============================] - 0s 0us/step\n",
            "Model: \"sequential\"\n",
            "_________________________________________________________________\n",
            " Layer (type)                Output Shape              Param #   \n",
            "=================================================================\n",
            " mobilenetv2_1.00_224 (Funct  (None, 1280)             2257984   \n",
            " ional)                                                          \n",
            "                                                                 \n",
            " dense (Dense)               (None, 128)               163968    \n",
            "                                                                 \n",
            " dense_1 (Dense)             (None, 98)                12642     \n",
            "                                                                 \n",
            " dropout (Dropout)           (None, 98)                0         \n",
            "                                                                 \n",
            " dense_2 (Dense)             (None, 2)                 198       \n",
            "                                                                 \n",
            "=================================================================\n",
            "Total params: 2,434,792\n",
            "Trainable params: 2,400,680\n",
            "Non-trainable params: 34,112\n",
            "_________________________________________________________________\n"
          ]
        }
      ],
      "source": [
        "import tensorflow as tf\n",
        "\n",
        "model = tf.keras.Sequential([\n",
        "    tf.keras.applications.MobileNetV2(include_top=False,\n",
        "                                      input_shape=(100, 100, 3),\n",
        "                                      weights=\"imagenet\",\n",
        "                                      pooling='avg',\n",
        "                                      classes=1000),\n",
        "    tf.keras.layers.Dense(128, activation='relu'),\n",
        "    tf.keras.layers.Dense(98, activation='relu'),\n",
        "    tf.keras.layers.Dropout(0.25),\n",
        "    tf.keras.layers.Dense(2, activation='softmax')\n",
        "])\n",
        "\n",
        "model.summary()"
      ],
      "id": "UjMkdM7JWrSI"
    },
    {
      "cell_type": "code",
      "execution_count": null,
      "metadata": {
        "colab": {
          "background_save": true,
          "base_uri": "https://localhost:8080/"
        },
        "id": "Z7BlbQ04XV8-",
        "outputId": "594e80c7-2596-46c7-a3f8-0eab2af00be8"
      },
      "outputs": [
        {
          "name": "stdout",
          "output_type": "stream",
          "text": [
            "Epoch 1/5\n",
            "127/127 [==============================] - 77s 583ms/step - loss: 0.0829 - accuracy: 0.9671 - val_loss: 0.2757 - val_accuracy: 0.8952\n",
            "Epoch 2/5\n",
            "127/127 [==============================] - 72s 566ms/step - loss: 0.0765 - accuracy: 0.9701 - val_loss: 0.3337 - val_accuracy: 0.8700\n",
            "Epoch 3/5\n",
            "127/127 [==============================] - 70s 553ms/step - loss: 0.0702 - accuracy: 0.9706 - val_loss: 0.5154 - val_accuracy: 0.8226\n",
            "Epoch 4/5\n",
            "127/127 [==============================] - 72s 564ms/step - loss: 0.0684 - accuracy: 0.9750 - val_loss: 0.5662 - val_accuracy: 0.8246\n",
            "Epoch 5/5\n",
            "127/127 [==============================] - 72s 567ms/step - loss: 0.0744 - accuracy: 0.9715 - val_loss: 0.3467 - val_accuracy: 0.8649\n"
          ]
        }
      ],
      "source": [
        "model.compile(optimizer='SGD',\n",
        "              loss='categorical_crossentropy',\n",
        "              metrics=['accuracy'])\n",
        "\n",
        "# Finally train this neural net. Ten epochs seems ok to me\n",
        "history = model.fit_generator(train_generator, validation_data=valid_generator, epochs=5)"
      ],
      "id": "Z7BlbQ04XV8-"
    },
    {
      "cell_type": "code",
      "execution_count": null,
      "metadata": {
        "colab": {
          "base_uri": "https://localhost:8080/"
        },
        "id": "aAs_OFsrfHbG",
        "outputId": "e8c19bf1-90e9-49c1-ff6d-259d6cdb9ec2"
      },
      "outputs": [
        {
          "name": "stdout",
          "output_type": "stream",
          "text": [
            " 32/157 [=====>........................] - ETA: 10s"
          ]
        },
        {
          "name": "stderr",
          "output_type": "stream",
          "text": [
            "WARNING:tensorflow:Your input ran out of data; interrupting training. Make sure that your dataset or generator can generate at least `steps_per_epoch * epochs` batches (in this case, 157 batches). You may need to use the repeat() function when building your dataset.\n"
          ]
        },
        {
          "name": "stdout",
          "output_type": "stream",
          "text": [
            "\b\b\b\b\b\b\b\b\b\b\b\b\b\b\b\b\b\b\b\b\b\b\b\b\b\b\b\b\b\b\b\b\b\b\b\b\b\b\b\b\b\b\b\b\b\b\b\b\b\b\b\r157/157 [==============================] - 4s 19ms/step\n"
          ]
        }
      ],
      "source": [
        "STEP_SIZE_TEST=test_generator.n//valid_generator.batch_size\n",
        "test_generator.reset()\n",
        "pred=model.predict_generator(valid_generator,\n",
        "steps=STEP_SIZE_TEST,\n",
        "verbose=1)"
      ],
      "id": "aAs_OFsrfHbG"
    },
    {
      "cell_type": "code",
      "execution_count": null,
      "metadata": {
        "colab": {
          "base_uri": "https://localhost:8080/"
        },
        "id": "7jdmD9uFfuRe",
        "outputId": "25ce3771-3235-45c5-896c-6c65fb773d95"
      },
      "outputs": [
        {
          "name": "stdout",
          "output_type": "stream",
          "text": [
            "Epoch 1/10\n",
            "126/126 [==============================] - 69s 547ms/step - loss: 0.1815 - accuracy: 0.9349 - val_loss: 0.4565 - val_accuracy: 0.7681\n",
            "Epoch 2/10\n",
            "126/126 [==============================] - 71s 562ms/step - loss: 0.1631 - accuracy: 0.9369 - val_loss: 0.5559 - val_accuracy: 0.6643\n",
            "Epoch 3/10\n",
            "126/126 [==============================] - 70s 551ms/step - loss: 0.1579 - accuracy: 0.9396 - val_loss: 0.5169 - val_accuracy: 0.6915\n",
            "Epoch 4/10\n",
            "126/126 [==============================] - 69s 548ms/step - loss: 0.1390 - accuracy: 0.9476 - val_loss: 0.4192 - val_accuracy: 0.7984\n",
            "Epoch 5/10\n",
            "126/126 [==============================] - 68s 538ms/step - loss: 0.1403 - accuracy: 0.9424 - val_loss: 0.2882 - val_accuracy: 0.8861\n",
            "Epoch 6/10\n",
            "126/126 [==============================] - 68s 537ms/step - loss: 0.1278 - accuracy: 0.9549 - val_loss: 0.5476 - val_accuracy: 0.7792\n",
            "Epoch 7/10\n",
            "126/126 [==============================] - 69s 546ms/step - loss: 0.1142 - accuracy: 0.9549 - val_loss: 0.4060 - val_accuracy: 0.8014\n",
            "Epoch 8/10\n",
            "126/126 [==============================] - 68s 537ms/step - loss: 0.1075 - accuracy: 0.9598 - val_loss: 0.5586 - val_accuracy: 0.7278\n",
            "Epoch 9/10\n",
            "126/126 [==============================] - 70s 551ms/step - loss: 0.1028 - accuracy: 0.9598 - val_loss: 0.6627 - val_accuracy: 0.6895\n",
            "Epoch 10/10\n",
            "126/126 [==============================] - 68s 536ms/step - loss: 0.1031 - accuracy: 0.9588 - val_loss: 0.5418 - val_accuracy: 0.7641\n"
          ]
        },
        {
          "data": {
            "text/plain": [
              "<keras.callbacks.History at 0x7efd8d64da50>"
            ]
          },
          "execution_count": 7,
          "metadata": {},
          "output_type": "execute_result"
        }
      ],
      "source": [
        "STEP_SIZE_TRAIN=train_generator.n//train_generator.batch_size\n",
        "STEP_SIZE_VALID=valid_generator.n//valid_generator.batch_size\n",
        "model.fit_generator(generator=train_generator,\n",
        "                    steps_per_epoch=STEP_SIZE_TRAIN,\n",
        "                    validation_data=valid_generator,\n",
        "                    validation_steps=STEP_SIZE_VALID,\n",
        "                    epochs=10\n",
        ")"
      ],
      "id": "7jdmD9uFfuRe"
    },
    {
      "cell_type": "code",
      "execution_count": null,
      "metadata": {
        "colab": {
          "base_uri": "https://localhost:8080/"
        },
        "id": "I7xgX3zdJ3T2",
        "outputId": "7272c093-38d5-44c8-8963-dcd470f569b9"
      },
      "outputs": [
        {
          "data": {
            "text/plain": [
              "[0.5368839502334595, 0.7651209831237793]"
            ]
          },
          "execution_count": 8,
          "metadata": {},
          "output_type": "execute_result"
        }
      ],
      "source": [
        "model.evaluate_generator(generator=valid_generator,\n",
        "steps=STEP_SIZE_VALID)"
      ],
      "id": "I7xgX3zdJ3T2"
    }
  ],
  "metadata": {
    "accelerator": "GPU",
    "colab": {
      "collapsed_sections": [],
      "name": "Proyecto_Mineria_CNN.ipynb",
      "provenance": []
    },
    "gpuClass": "standard",
    "kernelspec": {
      "display_name": "Python 3 (ipykernel)",
      "language": "python",
      "name": "python3"
    },
    "language_info": {
      "codemirror_mode": {
        "name": "ipython",
        "version": 3
      },
      "file_extension": ".py",
      "mimetype": "text/x-python",
      "name": "python",
      "nbconvert_exporter": "python",
      "pygments_lexer": "ipython3",
      "version": "3.9.12"
    }
  },
  "nbformat": 4,
  "nbformat_minor": 5
}